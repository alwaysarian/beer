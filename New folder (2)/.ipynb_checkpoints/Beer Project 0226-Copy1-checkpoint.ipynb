{
 "cells": [
  {
   "cell_type": "markdown",
   "metadata": {},
   "source": [
    "# Beer Classification\n",
    "\n",
    "For this project we will cluster the user from whom we will take review for three beer and use that information to suggest him beer."
   ]
  },
  {
   "cell_type": "code",
   "execution_count": 1,
   "metadata": {
    "collapsed": true
   },
   "outputs": [],
   "source": [
    "#For this project we will only use panda and numpy\n",
    "import pandas as pd\n",
    "import numpy as np"
   ]
  },
  {
   "cell_type": "code",
   "execution_count": 2,
   "metadata": {},
   "outputs": [],
   "source": [
    "# For further reference we will be saving a copy in our system\n",
    "df = pd.read_csv(\"out.CSV\", encoding='latin-1')"
   ]
  },
  {
   "cell_type": "code",
   "execution_count": 3,
   "metadata": {
    "collapsed": true
   },
   "outputs": [],
   "source": [
    "from datetime import datetime\n",
    "startTime = datetime.now()"
   ]
  },
  {
   "cell_type": "code",
   "execution_count": 4,
   "metadata": {},
   "outputs": [
    {
     "data": {
      "text/html": [
       "<div>\n",
       "<style>\n",
       "    .dataframe thead tr:only-child th {\n",
       "        text-align: right;\n",
       "    }\n",
       "\n",
       "    .dataframe thead th {\n",
       "        text-align: left;\n",
       "    }\n",
       "\n",
       "    .dataframe tbody tr th {\n",
       "        vertical-align: top;\n",
       "    }\n",
       "</style>\n",
       "<table border=\"1\" class=\"dataframe\">\n",
       "  <thead>\n",
       "    <tr style=\"text-align: right;\">\n",
       "      <th></th>\n",
       "      <th>rating</th>\n",
       "      <th>profilename</th>\n",
       "      <th>beer</th>\n",
       "    </tr>\n",
       "  </thead>\n",
       "  <tbody>\n",
       "    <tr>\n",
       "      <th>0</th>\n",
       "      <td>1.5</td>\n",
       "      <td>stcules</td>\n",
       "      <td>Sausa Weizen</td>\n",
       "    </tr>\n",
       "    <tr>\n",
       "      <th>1</th>\n",
       "      <td>3.0</td>\n",
       "      <td>stcules</td>\n",
       "      <td>Red Moon</td>\n",
       "    </tr>\n",
       "    <tr>\n",
       "      <th>2</th>\n",
       "      <td>3.0</td>\n",
       "      <td>stcules</td>\n",
       "      <td>Black Horse Black Beer</td>\n",
       "    </tr>\n",
       "    <tr>\n",
       "      <th>3</th>\n",
       "      <td>3.0</td>\n",
       "      <td>stcules</td>\n",
       "      <td>Sausa Pils</td>\n",
       "    </tr>\n",
       "    <tr>\n",
       "      <th>4</th>\n",
       "      <td>4.0</td>\n",
       "      <td>johnmichaelsen</td>\n",
       "      <td>Cauldron DIPA</td>\n",
       "    </tr>\n",
       "  </tbody>\n",
       "</table>\n",
       "</div>"
      ],
      "text/plain": [
       "   rating     profilename                    beer\n",
       "0     1.5         stcules            Sausa Weizen\n",
       "1     3.0         stcules                Red Moon\n",
       "2     3.0         stcules  Black Horse Black Beer\n",
       "3     3.0         stcules              Sausa Pils\n",
       "4     4.0  johnmichaelsen           Cauldron DIPA"
      ]
     },
     "execution_count": 4,
     "metadata": {},
     "output_type": "execute_result"
    }
   ],
   "source": [
    "#since the data is too large we will trime the data and use only review_overall, review_profilename and beer_name\n",
    "cleandata = df.loc[:,[\"rating\",\"profilename\", \"beer\"]]\n",
    "cleandata.head()"
   ]
  },
  {
   "cell_type": "code",
   "execution_count": 5,
   "metadata": {
    "collapsed": true
   },
   "outputs": [],
   "source": [
    "# In future this value will be updated from the web interace or the website.\n",
    "#For testing purpose we will give our own value\n",
    "beer1 = \"Budweiser\"\n",
    "overall1 = 1\n",
    "beer2 = \"Weihenstephaner Hefeweissbier\"\n",
    "overall2 = 5\n",
    "beer3 = \"Trappistes Rochefort 6\"\n",
    "overall3 = 3"
   ]
  },
  {
   "cell_type": "code",
   "execution_count": 6,
   "metadata": {
    "collapsed": true
   },
   "outputs": [],
   "source": [
    "#Te panda throw same wrong alerts which stops creating a new column in the codes. So we will put it as none\n",
    "pd.options.mode.chained_assignment = None"
   ]
  },
  {
   "cell_type": "markdown",
   "metadata": {},
   "source": [
    "## Reduce the size of the dataset"
   ]
  },
  {
   "cell_type": "code",
   "execution_count": 7,
   "metadata": {},
   "outputs": [
    {
     "data": {
      "text/html": [
       "<div>\n",
       "<style>\n",
       "    .dataframe thead tr:only-child th {\n",
       "        text-align: right;\n",
       "    }\n",
       "\n",
       "    .dataframe thead th {\n",
       "        text-align: left;\n",
       "    }\n",
       "\n",
       "    .dataframe tbody tr th {\n",
       "        vertical-align: top;\n",
       "    }\n",
       "</style>\n",
       "<table border=\"1\" class=\"dataframe\">\n",
       "  <thead>\n",
       "    <tr style=\"text-align: right;\">\n",
       "      <th></th>\n",
       "      <th>rating</th>\n",
       "      <th>profilename</th>\n",
       "      <th>beer</th>\n",
       "      <th>score</th>\n",
       "    </tr>\n",
       "  </thead>\n",
       "  <tbody>\n",
       "    <tr>\n",
       "      <th>1286802</th>\n",
       "      <td>3.0</td>\n",
       "      <td>Thehurt01</td>\n",
       "      <td>Budweiser</td>\n",
       "      <td>4.00</td>\n",
       "    </tr>\n",
       "    <tr>\n",
       "      <th>1301942</th>\n",
       "      <td>3.0</td>\n",
       "      <td>marc956</td>\n",
       "      <td>Budweiser</td>\n",
       "      <td>4.00</td>\n",
       "    </tr>\n",
       "    <tr>\n",
       "      <th>1305639</th>\n",
       "      <td>2.5</td>\n",
       "      <td>robertp1024</td>\n",
       "      <td>Budweiser</td>\n",
       "      <td>2.25</td>\n",
       "    </tr>\n",
       "    <tr>\n",
       "      <th>1305812</th>\n",
       "      <td>1.5</td>\n",
       "      <td>arguemaniac</td>\n",
       "      <td>Budweiser</td>\n",
       "      <td>0.25</td>\n",
       "    </tr>\n",
       "    <tr>\n",
       "      <th>1306083</th>\n",
       "      <td>3.0</td>\n",
       "      <td>ralphw56</td>\n",
       "      <td>Budweiser</td>\n",
       "      <td>4.00</td>\n",
       "    </tr>\n",
       "  </tbody>\n",
       "</table>\n",
       "</div>"
      ],
      "text/plain": [
       "         rating  profilename       beer  score\n",
       "1286802     3.0    Thehurt01  Budweiser   4.00\n",
       "1301942     3.0      marc956  Budweiser   4.00\n",
       "1305639     2.5  robertp1024  Budweiser   2.25\n",
       "1305812     1.5  arguemaniac  Budweiser   0.25\n",
       "1306083     3.0     ralphw56  Budweiser   4.00"
      ]
     },
     "execution_count": 7,
     "metadata": {},
     "output_type": "execute_result"
    }
   ],
   "source": [
    "#Here we will try to reduce the dataset. Initally we will try find all the user who reviewed the beer 1\n",
    "first = cleandata[(cleandata.beer == beer1)]\n",
    "\n",
    "\n",
    "#Since we will be calculationg Eucledian distance we will find the difference of the review_Overall \n",
    "#and overall review given by the user\n",
    "first['score'] = (first.rating - overall1)**2\n",
    "first.head()\n"
   ]
  },
  {
   "cell_type": "code",
   "execution_count": 8,
   "metadata": {},
   "outputs": [
    {
     "data": {
      "text/html": [
       "<div>\n",
       "<style>\n",
       "    .dataframe thead tr:only-child th {\n",
       "        text-align: right;\n",
       "    }\n",
       "\n",
       "    .dataframe thead th {\n",
       "        text-align: left;\n",
       "    }\n",
       "\n",
       "    .dataframe tbody tr th {\n",
       "        vertical-align: top;\n",
       "    }\n",
       "</style>\n",
       "<table border=\"1\" class=\"dataframe\">\n",
       "  <thead>\n",
       "    <tr style=\"text-align: right;\">\n",
       "      <th></th>\n",
       "      <th>rating</th>\n",
       "      <th>profilename</th>\n",
       "      <th>beer</th>\n",
       "      <th>score</th>\n",
       "    </tr>\n",
       "  </thead>\n",
       "  <tbody>\n",
       "    <tr>\n",
       "      <th>669204</th>\n",
       "      <td>5.0</td>\n",
       "      <td>rtepiak</td>\n",
       "      <td>Weihenstephaner Hefeweissbier</td>\n",
       "      <td>0.00</td>\n",
       "    </tr>\n",
       "    <tr>\n",
       "      <th>679191</th>\n",
       "      <td>5.0</td>\n",
       "      <td>Casconi</td>\n",
       "      <td>Weihenstephaner Hefeweissbier</td>\n",
       "      <td>0.00</td>\n",
       "    </tr>\n",
       "    <tr>\n",
       "      <th>679392</th>\n",
       "      <td>4.5</td>\n",
       "      <td>drseamus</td>\n",
       "      <td>Weihenstephaner Hefeweissbier</td>\n",
       "      <td>0.25</td>\n",
       "    </tr>\n",
       "    <tr>\n",
       "      <th>682090</th>\n",
       "      <td>4.5</td>\n",
       "      <td>Overlord</td>\n",
       "      <td>Weihenstephaner Hefeweissbier</td>\n",
       "      <td>0.25</td>\n",
       "    </tr>\n",
       "    <tr>\n",
       "      <th>682190</th>\n",
       "      <td>5.0</td>\n",
       "      <td>Stephen63</td>\n",
       "      <td>Weihenstephaner Hefeweissbier</td>\n",
       "      <td>0.00</td>\n",
       "    </tr>\n",
       "  </tbody>\n",
       "</table>\n",
       "</div>"
      ],
      "text/plain": [
       "        rating profilename                           beer  score\n",
       "669204     5.0     rtepiak  Weihenstephaner Hefeweissbier   0.00\n",
       "679191     5.0     Casconi  Weihenstephaner Hefeweissbier   0.00\n",
       "679392     4.5    drseamus  Weihenstephaner Hefeweissbier   0.25\n",
       "682090     4.5    Overlord  Weihenstephaner Hefeweissbier   0.25\n",
       "682190     5.0   Stephen63  Weihenstephaner Hefeweissbier   0.00"
      ]
     },
     "execution_count": 8,
     "metadata": {},
     "output_type": "execute_result"
    }
   ],
   "source": [
    "#We will reduce the data set to find all the user who reviewed the beer 2\n",
    "second = cleandata[(cleandata.beer == beer2)]\n",
    "\n",
    "#Since we will be calculationg Eucledian distance we will find the difference of the review_Overall \n",
    "#and overall review given by the user\n",
    "second['score'] = (second.rating - overall2)**2\n",
    "\n",
    "second.head()"
   ]
  },
  {
   "cell_type": "code",
   "execution_count": 9,
   "metadata": {},
   "outputs": [
    {
     "data": {
      "text/html": [
       "<div>\n",
       "<style>\n",
       "    .dataframe thead tr:only-child th {\n",
       "        text-align: right;\n",
       "    }\n",
       "\n",
       "    .dataframe thead th {\n",
       "        text-align: left;\n",
       "    }\n",
       "\n",
       "    .dataframe tbody tr th {\n",
       "        vertical-align: top;\n",
       "    }\n",
       "</style>\n",
       "<table border=\"1\" class=\"dataframe\">\n",
       "  <thead>\n",
       "    <tr style=\"text-align: right;\">\n",
       "      <th></th>\n",
       "      <th>rating</th>\n",
       "      <th>profilename</th>\n",
       "      <th>beer</th>\n",
       "      <th>score</th>\n",
       "    </tr>\n",
       "  </thead>\n",
       "  <tbody>\n",
       "    <tr>\n",
       "      <th>339308</th>\n",
       "      <td>4.0</td>\n",
       "      <td>Wildman</td>\n",
       "      <td>Trappistes Rochefort 6</td>\n",
       "      <td>1.00</td>\n",
       "    </tr>\n",
       "    <tr>\n",
       "      <th>340750</th>\n",
       "      <td>4.0</td>\n",
       "      <td>sonicdescent</td>\n",
       "      <td>Trappistes Rochefort 6</td>\n",
       "      <td>1.00</td>\n",
       "    </tr>\n",
       "    <tr>\n",
       "      <th>341214</th>\n",
       "      <td>3.5</td>\n",
       "      <td>tweeder263</td>\n",
       "      <td>Trappistes Rochefort 6</td>\n",
       "      <td>0.25</td>\n",
       "    </tr>\n",
       "    <tr>\n",
       "      <th>341633</th>\n",
       "      <td>4.0</td>\n",
       "      <td>aracauna</td>\n",
       "      <td>Trappistes Rochefort 6</td>\n",
       "      <td>1.00</td>\n",
       "    </tr>\n",
       "    <tr>\n",
       "      <th>342237</th>\n",
       "      <td>4.0</td>\n",
       "      <td>frank4sail</td>\n",
       "      <td>Trappistes Rochefort 6</td>\n",
       "      <td>1.00</td>\n",
       "    </tr>\n",
       "  </tbody>\n",
       "</table>\n",
       "</div>"
      ],
      "text/plain": [
       "        rating   profilename                    beer  score\n",
       "339308     4.0       Wildman  Trappistes Rochefort 6   1.00\n",
       "340750     4.0  sonicdescent  Trappistes Rochefort 6   1.00\n",
       "341214     3.5    tweeder263  Trappistes Rochefort 6   0.25\n",
       "341633     4.0      aracauna  Trappistes Rochefort 6   1.00\n",
       "342237     4.0    frank4sail  Trappistes Rochefort 6   1.00"
      ]
     },
     "execution_count": 9,
     "metadata": {},
     "output_type": "execute_result"
    }
   ],
   "source": [
    "#We will reduce the data set to find all the user who reviewed the beer \n",
    "third = cleandata[(cleandata.beer == beer3)]\n",
    "\n",
    "#Since we will be calculationg Eucledian distance we will find the difference of the review_Overall \n",
    "#and overall review given by the user\n",
    "third['score'] = (third.rating - overall3)**2\n",
    "\n",
    "third.head()"
   ]
  },
  {
   "cell_type": "code",
   "execution_count": 10,
   "metadata": {},
   "outputs": [
    {
     "data": {
      "text/html": [
       "<div>\n",
       "<style>\n",
       "    .dataframe thead tr:only-child th {\n",
       "        text-align: right;\n",
       "    }\n",
       "\n",
       "    .dataframe thead th {\n",
       "        text-align: left;\n",
       "    }\n",
       "\n",
       "    .dataframe tbody tr th {\n",
       "        vertical-align: top;\n",
       "    }\n",
       "</style>\n",
       "<table border=\"1\" class=\"dataframe\">\n",
       "  <thead>\n",
       "    <tr style=\"text-align: right;\">\n",
       "      <th></th>\n",
       "      <th>rating</th>\n",
       "      <th>profilename</th>\n",
       "      <th>beer</th>\n",
       "      <th>score</th>\n",
       "    </tr>\n",
       "  </thead>\n",
       "  <tbody>\n",
       "    <tr>\n",
       "      <th>1286802</th>\n",
       "      <td>3.0</td>\n",
       "      <td>Thehurt01</td>\n",
       "      <td>Budweiser</td>\n",
       "      <td>4.00</td>\n",
       "    </tr>\n",
       "    <tr>\n",
       "      <th>1301942</th>\n",
       "      <td>3.0</td>\n",
       "      <td>marc956</td>\n",
       "      <td>Budweiser</td>\n",
       "      <td>4.00</td>\n",
       "    </tr>\n",
       "    <tr>\n",
       "      <th>1305639</th>\n",
       "      <td>2.5</td>\n",
       "      <td>robertp1024</td>\n",
       "      <td>Budweiser</td>\n",
       "      <td>2.25</td>\n",
       "    </tr>\n",
       "    <tr>\n",
       "      <th>1305812</th>\n",
       "      <td>1.5</td>\n",
       "      <td>arguemaniac</td>\n",
       "      <td>Budweiser</td>\n",
       "      <td>0.25</td>\n",
       "    </tr>\n",
       "    <tr>\n",
       "      <th>1306083</th>\n",
       "      <td>3.0</td>\n",
       "      <td>ralphw56</td>\n",
       "      <td>Budweiser</td>\n",
       "      <td>4.00</td>\n",
       "    </tr>\n",
       "  </tbody>\n",
       "</table>\n",
       "</div>"
      ],
      "text/plain": [
       "         rating  profilename       beer  score\n",
       "1286802     3.0    Thehurt01  Budweiser   4.00\n",
       "1301942     3.0      marc956  Budweiser   4.00\n",
       "1305639     2.5  robertp1024  Budweiser   2.25\n",
       "1305812     1.5  arguemaniac  Budweiser   0.25\n",
       "1306083     3.0     ralphw56  Budweiser   4.00"
      ]
     },
     "execution_count": 10,
     "metadata": {},
     "output_type": "execute_result"
    }
   ],
   "source": [
    "#We have list of of the user who reviewed all the three beer we will append to create one list\n",
    "firstdata = first.append(second)\n",
    "final = firstdata.append(third)\n",
    "final.head()"
   ]
  },
  {
   "cell_type": "markdown",
   "metadata": {},
   "source": [
    "# Picking the top users"
   ]
  },
  {
   "cell_type": "code",
   "execution_count": 11,
   "metadata": {},
   "outputs": [
    {
     "data": {
      "text/html": [
       "<div>\n",
       "<style>\n",
       "    .dataframe thead tr:only-child th {\n",
       "        text-align: right;\n",
       "    }\n",
       "\n",
       "    .dataframe thead th {\n",
       "        text-align: left;\n",
       "    }\n",
       "\n",
       "    .dataframe tbody tr th {\n",
       "        vertical-align: top;\n",
       "    }\n",
       "</style>\n",
       "<table border=\"1\" class=\"dataframe\">\n",
       "  <thead>\n",
       "    <tr style=\"text-align: right;\">\n",
       "      <th></th>\n",
       "      <th>profilename</th>\n",
       "      <th>rating</th>\n",
       "      <th>beer</th>\n",
       "      <th>score</th>\n",
       "    </tr>\n",
       "  </thead>\n",
       "  <tbody>\n",
       "    <tr>\n",
       "      <th>0</th>\n",
       "      <td>1fastz28</td>\n",
       "      <td>3</td>\n",
       "      <td>3</td>\n",
       "      <td>3</td>\n",
       "    </tr>\n",
       "    <tr>\n",
       "      <th>1</th>\n",
       "      <td>ADR</td>\n",
       "      <td>3</td>\n",
       "      <td>3</td>\n",
       "      <td>3</td>\n",
       "    </tr>\n",
       "    <tr>\n",
       "      <th>2</th>\n",
       "      <td>AKBelgianBeast</td>\n",
       "      <td>3</td>\n",
       "      <td>3</td>\n",
       "      <td>3</td>\n",
       "    </tr>\n",
       "    <tr>\n",
       "      <th>3</th>\n",
       "      <td>BMoney575</td>\n",
       "      <td>3</td>\n",
       "      <td>3</td>\n",
       "      <td>3</td>\n",
       "    </tr>\n",
       "    <tr>\n",
       "      <th>4</th>\n",
       "      <td>BedetheVenerable</td>\n",
       "      <td>3</td>\n",
       "      <td>3</td>\n",
       "      <td>3</td>\n",
       "    </tr>\n",
       "  </tbody>\n",
       "</table>\n",
       "</div>"
      ],
      "text/plain": [
       "        profilename  rating  beer  score\n",
       "0          1fastz28       3     3      3\n",
       "1               ADR       3     3      3\n",
       "2    AKBelgianBeast       3     3      3\n",
       "3         BMoney575       3     3      3\n",
       "4  BedetheVenerable       3     3      3"
      ]
     },
     "execution_count": 11,
     "metadata": {},
     "output_type": "execute_result"
    }
   ],
   "source": [
    "#We will use grouby function with count function to find the how many beer did the user reviewed\n",
    "grouppeddata = (final.groupby( [\"profilename\"] ).count())\n",
    "\n",
    "#Using below condition we will get all the user who have reiewed all the three beers\n",
    "grp = grouppeddata[grouppeddata.rating == 3].reset_index()\n",
    "grp.head()\n"
   ]
  },
  {
   "cell_type": "code",
   "execution_count": 12,
   "metadata": {},
   "outputs": [],
   "source": [
    "#We will now get all the name of the reiwer and convert it into a list for further processing\n",
    "reviewer = grp.loc[:,\"profilename\"]\n",
    "reviewer = reviewer.values.tolist()"
   ]
  },
  {
   "cell_type": "code",
   "execution_count": 13,
   "metadata": {},
   "outputs": [
    {
     "data": {
      "text/plain": [
       "(561, 4)"
      ]
     },
     "execution_count": 13,
     "metadata": {},
     "output_type": "execute_result"
    }
   ],
   "source": [
    "#We will create a for loop to get all the detail of user who reviwed all the three beer\n",
    "finalresut = pd.DataFrame()\n",
    "for allthename in reviewer:\n",
    "    beername = allthename\n",
    "    thefinalname = final[(final.profilename == beername)]\n",
    "    finalresut = finalresut.append(thefinalname)\n",
    "finalresut.shape"
   ]
  },
  {
   "cell_type": "markdown",
   "metadata": {},
   "source": [
    "## Finding the distance"
   ]
  },
  {
   "cell_type": "code",
   "execution_count": 14,
   "metadata": {},
   "outputs": [
    {
     "data": {
      "text/html": [
       "<div>\n",
       "<style>\n",
       "    .dataframe thead tr:only-child th {\n",
       "        text-align: right;\n",
       "    }\n",
       "\n",
       "    .dataframe thead th {\n",
       "        text-align: left;\n",
       "    }\n",
       "\n",
       "    .dataframe tbody tr th {\n",
       "        vertical-align: top;\n",
       "    }\n",
       "</style>\n",
       "<table border=\"1\" class=\"dataframe\">\n",
       "  <thead>\n",
       "    <tr style=\"text-align: right;\">\n",
       "      <th></th>\n",
       "      <th>profilename</th>\n",
       "      <th>rating</th>\n",
       "      <th>score</th>\n",
       "    </tr>\n",
       "  </thead>\n",
       "  <tbody>\n",
       "    <tr>\n",
       "      <th>0</th>\n",
       "      <td>Bierman9</td>\n",
       "      <td>9.0</td>\n",
       "      <td>0.50</td>\n",
       "    </tr>\n",
       "    <tr>\n",
       "      <th>1</th>\n",
       "      <td>MrHungryMonkey</td>\n",
       "      <td>10.0</td>\n",
       "      <td>0.50</td>\n",
       "    </tr>\n",
       "    <tr>\n",
       "      <th>2</th>\n",
       "      <td>harrymel</td>\n",
       "      <td>9.0</td>\n",
       "      <td>0.50</td>\n",
       "    </tr>\n",
       "    <tr>\n",
       "      <th>3</th>\n",
       "      <td>kkipple</td>\n",
       "      <td>15.0</td>\n",
       "      <td>0.00</td>\n",
       "    </tr>\n",
       "    <tr>\n",
       "      <th>4</th>\n",
       "      <td>mynie</td>\n",
       "      <td>7.5</td>\n",
       "      <td>0.25</td>\n",
       "    </tr>\n",
       "    <tr>\n",
       "      <th>5</th>\n",
       "      <td>wnhay</td>\n",
       "      <td>11.0</td>\n",
       "      <td>0.00</td>\n",
       "    </tr>\n",
       "  </tbody>\n",
       "</table>\n",
       "</div>"
      ],
      "text/plain": [
       "      profilename  rating  score\n",
       "0        Bierman9     9.0   0.50\n",
       "1  MrHungryMonkey    10.0   0.50\n",
       "2        harrymel     9.0   0.50\n",
       "3         kkipple    15.0   0.00\n",
       "4           mynie     7.5   0.25\n",
       "5           wnhay    11.0   0.00"
      ]
     },
     "execution_count": 14,
     "metadata": {},
     "output_type": "execute_result"
    }
   ],
   "source": [
    "#We see now our result is reduced with all those user who have reviwed all the three beer with score which is square of \n",
    "#differnce between review_overall and the review given by the user\n",
    "grouppeddata1 = finalresut.groupby( [ \"profilename\"] ).sum() \n",
    "#We will not use square root on this as we are using the score less than 1\n",
    "#We know that square root of zero and 1 is same, so we will skip that step\n",
    "grouppeddata1 = grouppeddata1[grouppeddata1.score < 1].reset_index()\n",
    "#We now have the cluster or name of user whosed eucledian distance is less than 1 and similar to our user who reviwed\n",
    "grouppeddata1"
   ]
  },
  {
   "cell_type": "code",
   "execution_count": 15,
   "metadata": {},
   "outputs": [
    {
     "data": {
      "text/plain": [
       "['Bierman9', 'MrHungryMonkey', 'harrymel', 'kkipple', 'mynie', 'wnhay']"
      ]
     },
     "execution_count": 15,
     "metadata": {},
     "output_type": "execute_result"
    }
   ],
   "source": [
    "#We will again extract the name of of the reviewer and create alist\n",
    "reviewer = grouppeddata1.loc[:,\"profilename\"]\n",
    "reviewer = reviewer.values.tolist()\n",
    "reviewer"
   ]
  },
  {
   "cell_type": "code",
   "execution_count": 16,
   "metadata": {},
   "outputs": [
    {
     "data": {
      "text/plain": [
       "(5563, 3)"
      ]
     },
     "execution_count": 16,
     "metadata": {},
     "output_type": "execute_result"
    }
   ],
   "source": [
    "#With the list we now select all the beer these reviewer have reviewed\n",
    "finalresut = pd.DataFrame()\n",
    "for allthename in reviewer:\n",
    "    beername = allthename\n",
    "    thefinalname = cleandata[(cleandata.profilename == beername)]\n",
    "    finalresut = finalresut.append(thefinalname)\n",
    "finalresut.shape"
   ]
  },
  {
   "cell_type": "markdown",
   "metadata": {},
   "source": [
    "## Letting the beer Vote"
   ]
  },
  {
   "cell_type": "code",
   "execution_count": 17,
   "metadata": {
    "collapsed": true
   },
   "outputs": [],
   "source": [
    "#Now we will use group function, So each beer can vote to sum up the value of overall rating\n",
    "grouppeddata2 = cleandata.groupby( [ \"beer\"] ).sum() \n",
    "#We will use cindition of all the beer whose total rating is more than 100 to shorten the list we are working on\n",
    "grouppeddata2 = grouppeddata2[grouppeddata2.rating > 100].reset_index()"
   ]
  },
  {
   "cell_type": "markdown",
   "metadata": {},
   "source": [
    "## Picking the Top 10 beer"
   ]
  },
  {
   "cell_type": "code",
   "execution_count": 18,
   "metadata": {},
   "outputs": [
    {
     "data": {
      "text/plain": [
       "['90 Minute IPA',\n",
       " 'Old Rasputin Russian Imperial Stout',\n",
       " 'Sierra Nevada Celebration Ale',\n",
       " 'India Pale Ale',\n",
       " 'Two Hearted Ale',\n",
       " 'Pliny The Elder',\n",
       " 'Stone Ruination IPA',\n",
       " 'Arrogant Bastard Ale',\n",
       " 'Sierra Nevada Pale Ale',\n",
       " 'Stone IPA (India Pale Ale)']"
      ]
     },
     "execution_count": 18,
     "metadata": {},
     "output_type": "execute_result"
    }
   ],
   "source": [
    "#using sort function we will sort the values such that all the beer with highest review_overall is in top\n",
    "theresultofgod = grouppeddata2.sort_values(by = \"rating\", ascending=False)\n",
    "#Now we use the head function and loc to get top 10 beer for the user\n",
    "toprint = theresultofgod.head(10)\n",
    "reviewer = toprint.loc[:,\"beer\"]\n",
    "reviewer = reviewer.values.tolist()\n",
    "reviewer"
   ]
  },
  {
   "cell_type": "code",
   "execution_count": 19,
   "metadata": {},
   "outputs": [
    {
     "name": "stdout",
     "output_type": "stream",
     "text": [
      "0:00:01.940713\n"
     ]
    }
   ],
   "source": [
    "print(datetime.now() - startTime)"
   ]
  }
 ],
 "metadata": {
  "kernelspec": {
   "display_name": "Python 3",
   "language": "python",
   "name": "python3"
  },
  "language_info": {
   "codemirror_mode": {
    "name": "ipython",
    "version": 3
   },
   "file_extension": ".py",
   "mimetype": "text/x-python",
   "name": "python",
   "nbconvert_exporter": "python",
   "pygments_lexer": "ipython3",
   "version": "3.6.3"
  }
 },
 "nbformat": 4,
 "nbformat_minor": 2
}
