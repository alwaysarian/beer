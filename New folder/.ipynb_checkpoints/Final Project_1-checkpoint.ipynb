{
 "cells": [
  {
   "cell_type": "markdown",
   "metadata": {},
   "source": [
    "# Beer Classification"
   ]
  },
  {
   "cell_type": "code",
   "execution_count": null,
   "metadata": {
    "collapsed": true
   },
   "outputs": [],
   "source": [
    "import pandas as pd\n",
    "import numpy as np"
   ]
  },
  {
   "cell_type": "code",
   "execution_count": null,
   "metadata": {},
   "outputs": [],
   "source": [
    "df = pd.read_csv(\"https://query.data.world/s/5wrkcltf0rqhyu2ahlayldrfg\")\n",
    "df.head()"
   ]
  },
  {
   "cell_type": "code",
   "execution_count": null,
   "metadata": {},
   "outputs": [],
   "source": [
    "cleandata = df.loc[:,[\"review_overall\",\"review_aroma\",\"review_appearance\",\"review_profilename\", \"review_palate\",\"review_taste\",\n",
    "                      \"beer_name\",\"beer_abv\"]]\n",
    "cleandata.head()"
   ]
  },
  {
   "cell_type": "code",
   "execution_count": null,
   "metadata": {
    "collapsed": true
   },
   "outputs": [],
   "source": [
    "beer1 = \"Budweiser\"\n",
    "overall1 = 1\n",
    "appearance1 = 3\n",
    "aroma1 = 2\n",
    "palate1 = 1\n",
    "taste1 = 3\n",
    "beer2 = \"Weihenstephaner Hefeweissbier\"\n",
    "overall2 = 5\n",
    "appearance2 = 5\n",
    "aroma2 = 4\n",
    "palate2 = 5\n",
    "taste2 = 5\n",
    "beer3 = \"Trappistes Rochefort 6\"\n",
    "overall3 = 3\n",
    "appearance3 = 4\n",
    "aroma3 = 4\n",
    "palate3 = 5\n",
    "taste3 = 5"
   ]
  },
  {
   "cell_type": "code",
   "execution_count": null,
   "metadata": {},
   "outputs": [],
   "source": [
    "first = cleandata[(cleandata.beer_name == beer1) & (cleandata.review_overall == overall1)]\n",
    "\n",
    "first.head()"
   ]
  },
  {
   "cell_type": "code",
   "execution_count": null,
   "metadata": {},
   "outputs": [],
   "source": [
    "second = cleandata[(cleandata.beer_name == beer2) & (cleandata.review_overall == overall2)]\n",
    "second.head()"
   ]
  },
  {
   "cell_type": "code",
   "execution_count": null,
   "metadata": {},
   "outputs": [],
   "source": [
    "third = cleandata[(cleandata.beer_name == beer3) & (cleandata.review_overall == overall3)]\n",
    "third.head()"
   ]
  },
  {
   "cell_type": "code",
   "execution_count": null,
   "metadata": {},
   "outputs": [],
   "source": [
    "firstdata = first.append(second)\n",
    "final = firstdata.append(third)\n",
    "final.head()"
   ]
  },
  {
   "cell_type": "code",
   "execution_count": null,
   "metadata": {
    "collapsed": true
   },
   "outputs": [],
   "source": [
    "reviewer = final.loc[:,\"review_profilename\"]\n"
   ]
  },
  {
   "cell_type": "code",
   "execution_count": null,
   "metadata": {},
   "outputs": [],
   "source": [
    "reviewer = reviewer.values.tolist()\n",
    "reviewer"
   ]
  },
  {
   "cell_type": "code",
   "execution_count": null,
   "metadata": {},
   "outputs": [],
   "source": [
    "finalresut = pd.DataFrame()\n",
    "for allthename in reviewer:\n",
    "    beername = allthename\n",
    "    thefinalname = cleandata[(cleandata.review_profilename == beername) & (cleandata.review_overall == 5) \n",
    "                             & (cleandata.review_aroma == 5) & (cleandata.review_appearance == 5) \n",
    "                             & (cleandata.review_taste == 5)]\n",
    "    #print(thefinalname)\n",
    "    finalresut = finalresut.append(thefinalname)\n",
    "finalresut"
   ]
  },
  {
   "cell_type": "code",
   "execution_count": null,
   "metadata": {
    "collapsed": true
   },
   "outputs": [],
   "source": [
    "beernamefinal = finalresut.loc[:,\"beer_name\"]"
   ]
  },
  {
   "cell_type": "code",
   "execution_count": null,
   "metadata": {},
   "outputs": [],
   "source": [
    "beernamefinal = beernamefinal.values.tolist()\n",
    "beernamefinal"
   ]
  }
 ],
 "metadata": {
  "kernelspec": {
   "display_name": "Python 3",
   "language": "python",
   "name": "python3"
  },
  "language_info": {
   "codemirror_mode": {
    "name": "ipython",
    "version": 3
   },
   "file_extension": ".py",
   "mimetype": "text/x-python",
   "name": "python",
   "nbconvert_exporter": "python",
   "pygments_lexer": "ipython3",
   "version": "3.6.3"
  }
 },
 "nbformat": 4,
 "nbformat_minor": 2
}
